{
 "cells": [
  {
   "cell_type": "markdown",
   "id": "2c08e4a2",
   "metadata": {},
   "source": [
    "# Data Quality Control "
   ]
  },
  {
   "cell_type": "code",
   "execution_count": 1,
   "id": "844b0dd1",
   "metadata": {},
   "outputs": [],
   "source": [
    "# import packages \n",
    "import pandas as pd \n",
    "import numpy as np\n",
    "import randomly\n",
    "import anndata2ri\n",
    "import scanpy as sc \n",
    "from warnings import filterwarnings\n",
    "filterwarnings('ignore')"
   ]
  },
  {
   "cell_type": "code",
   "execution_count": 2,
   "id": "ad745c0d",
   "metadata": {},
   "outputs": [],
   "source": [
    "# read the preprocess data: \n",
    "adata = sc.read_h5ad('./EpCAM_adata.gz')"
   ]
  },
  {
   "cell_type": "code",
   "execution_count": 3,
   "id": "9213592a",
   "metadata": {},
   "outputs": [
    {
     "data": {
      "text/plain": [
       "AnnData object with n_obs × n_vars = 8277 × 32285\n",
       "    obs: 'seq_folder', 'nUMI', 'nGene', 'log10GenesPerUMI', 'mitoRatio', 'cells', 'sample', 'ident'\n",
       "    layers: 'logcounts'"
      ]
     },
     "execution_count": 3,
     "metadata": {},
     "output_type": "execute_result"
    }
   ],
   "source": [
    "adata"
   ]
  }
 ],
 "metadata": {
  "kernelspec": {
   "display_name": "Python 3",
   "language": "python",
   "name": "python3"
  },
  "language_info": {
   "codemirror_mode": {
    "name": "ipython",
    "version": 3
   },
   "file_extension": ".py",
   "mimetype": "text/x-python",
   "name": "python",
   "nbconvert_exporter": "python",
   "pygments_lexer": "ipython3",
   "version": "3.8.5"
  }
 },
 "nbformat": 4,
 "nbformat_minor": 5
}
